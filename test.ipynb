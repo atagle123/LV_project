{
 "cells": [
  {
   "cell_type": "code",
   "execution_count": 4,
   "metadata": {},
   "outputs": [
    {
     "name": "stderr",
     "output_type": "stream",
     "text": [
      "c:\\Users\\ataglem\\AppData\\Local\\anaconda3\\Lib\\site-packages\\tabula\\io.py:1057: FutureWarning: errors='ignore' is deprecated and will raise in a future version. Use to_numeric without passing `errors` and catch exceptions explicitly instead\n",
      "  df[c] = pd.to_numeric(df[c], errors=\"ignore\")\n",
      "c:\\Users\\ataglem\\AppData\\Local\\anaconda3\\Lib\\site-packages\\tabula\\io.py:1057: FutureWarning: errors='ignore' is deprecated and will raise in a future version. Use to_numeric without passing `errors` and catch exceptions explicitly instead\n",
      "  df[c] = pd.to_numeric(df[c], errors=\"ignore\")\n",
      "c:\\Users\\ataglem\\AppData\\Local\\anaconda3\\Lib\\site-packages\\tabula\\io.py:1057: FutureWarning: errors='ignore' is deprecated and will raise in a future version. Use to_numeric without passing `errors` and catch exceptions explicitly instead\n",
      "  df[c] = pd.to_numeric(df[c], errors=\"ignore\")\n"
     ]
    }
   ],
   "source": [
    "from tabula import read_pdf\n",
    "df_temp = read_pdf('Análisis_Razonado92434000_202212 (1).pdf',pages='all')"
   ]
  },
  {
   "cell_type": "code",
   "execution_count": 193,
   "metadata": {},
   "outputs": [],
   "source": [
    "import pandas as pd \n",
    "import numpy as np \n"
   ]
  },
  {
   "cell_type": "code",
   "execution_count": 241,
   "metadata": {},
   "outputs": [
    {
     "data": {
      "text/plain": [
       "array(['Desde 2018-01-01 Hasta 2018-03-31',\n",
       "       'Desde 2017-01-01 Hasta 2017-03-31',\n",
       "       'Desde 2018-01-01 Hasta 2018-06-30',\n",
       "       'Desde 2017-01-01 Hasta 2017-06-30',\n",
       "       'Desde 2018-01-01 Hasta 2018-09-30',\n",
       "       'Desde 2017-01-01 Hasta 2017-09-30',\n",
       "       'Desde 2018-01-01 Hasta 2018-12-31',\n",
       "       'Desde 2017-01-01 Hasta 2017-12-31',\n",
       "       'Desde 2019-01-01 Hasta 2019-03-31',\n",
       "       'Desde 2019-01-01 Hasta 2019-06-30',\n",
       "       'Desde 2019-01-01 Hasta 2019-09-30',\n",
       "       'Desde 2019-01-01 Hasta 2019-12-31',\n",
       "       'Desde 2020-01-01 Hasta 2020-03-31',\n",
       "       'Desde 2020-01-01 Hasta 2020-06-30',\n",
       "       'Desde 2020-01-01 Hasta 2020-09-30',\n",
       "       'Desde 2020-01-01 Hasta 2020-12-31'], dtype=object)"
      ]
     },
     "execution_count": 241,
     "metadata": {},
     "output_type": "execute_result"
    }
   ],
   "source": [
    "df=pd.read_csv(\"510000.csv\")\n",
    "df.set_index([df.columns.values[0],df.columns.values[1]],inplace=True)\n",
    "df.columns.values\n"
   ]
  },
  {
   "cell_type": "code",
   "execution_count": 239,
   "metadata": {},
   "outputs": [
    {
     "data": {
      "text/plain": [
       "True"
      ]
     },
     "execution_count": 239,
     "metadata": {},
     "output_type": "execute_result"
    }
   ],
   "source": [
    "cadena = 'Desde 2018-01-01 Hasta 2018-03-31'\n",
    "\n",
    "# Número que buscas\n",
    "numero_buscado = \"01\"\n",
    "\n",
    "# Posición en la que debe estar el número\n",
    "posicion_deseada = 11\n",
    "\n",
    "# Verifica si el número está en la posición especificada en la cadena\n",
    "tiene_numero_en_posicion(cadena, numero_buscado, posicion_deseada) and tiene_numero_en_posicion(cadena, \"03\", 28)\n"
   ]
  },
  {
   "cell_type": "code",
   "execution_count": null,
   "metadata": {},
   "outputs": [],
   "source": [
    "def column_is_quarter(name,quarter): # see if quarter and change name \n",
    "\n",
    "\n",
    "def change_cols_name(df): #to cols\n",
    "\n",
    "\n",
    "\n",
    "    \n"
   ]
  },
  {
   "cell_type": "code",
   "execution_count": 213,
   "metadata": {},
   "outputs": [],
   "source": [
    "def tiene_numero_en_posicion(cadena, numero, posicion):\n",
    "    # Construye el patrón para buscar el número en la posición específica\n",
    "    patron = r'^.{%d}%s' % (posicion , numero)\n",
    "    # Busca la coincidencia\n",
    "    coincidencia = re.search(patron, cadena)\n",
    "    # Devuelve True si se encuentra la coincidencia, False en caso contrario\n",
    "    return bool(coincidencia)"
   ]
  },
  {
   "cell_type": "code",
   "execution_count": 208,
   "metadata": {},
   "outputs": [],
   "source": [
    "import re\n",
    "lista=list(df.columns.values)\n",
    "\n",
    "\n",
    "pattern=r'^.{%d}%s'% (posicion - 1, numero)"
   ]
  },
  {
   "cell_type": "code",
   "execution_count": null,
   "metadata": {},
   "outputs": [],
   "source": [
    "matched_strings = [s for s in lista if re.match(pattern, s)]\n"
   ]
  },
  {
   "cell_type": "code",
   "execution_count": 209,
   "metadata": {},
   "outputs": [
    {
     "data": {
      "text/plain": [
       "['Desde 2018-01-01 Hasta 2018-03-31',\n",
       " 'Desde 2017-01-01 Hasta 2017-03-31',\n",
       " 'Desde 2018-01-01 Hasta 2018-06-30',\n",
       " 'Desde 2018-04-01 Hasta 2018-06-30',\n",
       " 'Desde 2017-01-01 Hasta 2017-06-30',\n",
       " 'Desde 2017-04-01 Hasta 2017-06-30',\n",
       " 'Desde 2018-01-01 Hasta 2018-09-30',\n",
       " 'Desde 2018-07-01 Hasta 2018-09-30',\n",
       " 'Desde 2017-01-01 Hasta 2017-09-30',\n",
       " 'Desde 2017-07-01 Hasta 2017-09-30',\n",
       " 'Desde 2018-01-01 Hasta 2018-12-31',\n",
       " 'Desde 2017-01-01 Hasta 2017-12-31',\n",
       " 'Desde 2019-01-01 Hasta 2019-03-31',\n",
       " 'Desde 2019-01-01 Hasta 2019-06-30',\n",
       " 'Desde 2019-04-01 Hasta 2019-06-30',\n",
       " 'Desde 2019-01-01 Hasta 2019-09-30',\n",
       " 'Desde 2019-07-01 Hasta 2019-09-30',\n",
       " 'Desde 2019-01-01 Hasta 2019-12-31',\n",
       " 'Desde 2020-01-01 Hasta 2020-03-31',\n",
       " 'Desde 2020-01-01 Hasta 2020-06-30',\n",
       " 'Desde 2020-04-01 Hasta 2020-06-30',\n",
       " 'Desde 2020-01-01 Hasta 2020-09-30',\n",
       " 'Desde 2020-07-01 Hasta 2020-09-30',\n",
       " 'Desde 2020-01-01 Hasta 2020-12-31']"
      ]
     },
     "execution_count": 209,
     "metadata": {},
     "output_type": "execute_result"
    }
   ],
   "source": []
  },
  {
   "cell_type": "code",
   "execution_count": 195,
   "metadata": {},
   "outputs": [],
   "source": [
    "df.set_index([df.columns.values[i] for i in [0,1]],inplace=True)"
   ]
  }
 ],
 "metadata": {
  "kernelspec": {
   "display_name": "base",
   "language": "python",
   "name": "python3"
  },
  "language_info": {
   "codemirror_mode": {
    "name": "ipython",
    "version": 3
   },
   "file_extension": ".py",
   "mimetype": "text/x-python",
   "name": "python",
   "nbconvert_exporter": "python",
   "pygments_lexer": "ipython3",
   "version": "3.11.7"
  }
 },
 "nbformat": 4,
 "nbformat_minor": 2
}
