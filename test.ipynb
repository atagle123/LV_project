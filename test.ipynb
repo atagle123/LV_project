{
 "cells": [
  {
   "cell_type": "code",
   "execution_count": 1,
   "metadata": {},
   "outputs": [],
   "source": [
    "from plots import Plot_Data"
   ]
  },
  {
   "cell_type": "code",
   "execution_count": 2,
   "metadata": {},
   "outputs": [
    {
     "ename": "",
     "evalue": "",
     "output_type": "error",
     "traceback": [
      "\u001b[1;31mCannot execute code, session has been disposed. Please try restarting the Kernel."
     ]
    },
    {
     "ename": "",
     "evalue": "",
     "output_type": "error",
     "traceback": [
      "\u001b[1;31mThe Kernel crashed while executing code in the the current cell or a previous cell. Please review the code in the cell(s) to identify a possible cause of the failure. Click <a href='https://aka.ms/vscodeJupyterKernelCrash'>here</a> for more info. View Jupyter <a href='command:jupyter.viewOutput'>log</a> for further details."
     ]
    }
   ],
   "source": [
    "plot=Plot_Data()\n",
    "plot.get_data()"
   ]
  },
  {
   "cell_type": "code",
   "execution_count": 4,
   "metadata": {},
   "outputs": [
    {
     "ename": "AttributeError",
     "evalue": "'Plot_Data' object has no attribute 'data'",
     "output_type": "error",
     "traceback": [
      "\u001b[1;31m---------------------------------------------------------------------------\u001b[0m",
      "\u001b[1;31mAttributeError\u001b[0m                            Traceback (most recent call last)",
      "Cell \u001b[1;32mIn[4], line 1\u001b[0m\n\u001b[1;32m----> 1\u001b[0m plot\u001b[39m.\u001b[39;49mplot_serie(serie_name\u001b[39m=\u001b[39;49m\u001b[39m\"\u001b[39;49m\u001b[39mImacec...\u001b[39;49m\u001b[39m\"\u001b[39;49m)\n",
      "File \u001b[1;32mc:\\Users\\augus\\Desktop\\LV\\LV_project\\plots.py:25\u001b[0m, in \u001b[0;36mPlot_Data.plot_serie\u001b[1;34m(self, serie_name, plot_args)\u001b[0m\n\u001b[0;32m     21\u001b[0m \u001b[39m\u001b[39m\u001b[39m\"\"\"\u001b[39;00m\n\u001b[0;32m     22\u001b[0m \u001b[39mFunction to plot the data series of Data\u001b[39;00m\n\u001b[0;32m     23\u001b[0m \u001b[39m\"\"\"\u001b[39;00m\n\u001b[0;32m     24\u001b[0m fig, ax \u001b[39m=\u001b[39m plt\u001b[39m.\u001b[39msubplots(figsize\u001b[39m=\u001b[39m(\u001b[39m8\u001b[39m, \u001b[39m6\u001b[39m))\n\u001b[1;32m---> 25\u001b[0m \u001b[39mfor\u001b[39;00m col \u001b[39min\u001b[39;00m \u001b[39mself\u001b[39;49m\u001b[39m.\u001b[39;49mdata\u001b[39m.\u001b[39mcolumns:\n\u001b[0;32m     26\u001b[0m     \u001b[39mself\u001b[39m\u001b[39m.\u001b[39mdata[col]\u001b[39m.\u001b[39mdropna()\u001b[39m.\u001b[39mplot(ax\u001b[39m=\u001b[39max, label\u001b[39m=\u001b[39mcol, \u001b[39m*\u001b[39m\u001b[39m*\u001b[39mplot_args)\n\u001b[0;32m     27\u001b[0m     \u001b[39m#sns.lineplot(data=data[col], label=col)#, **plot_args)\u001b[39;00m\n\u001b[0;32m     28\u001b[0m \u001b[39m#  data.plot(**plot_args)\u001b[39;00m\n",
      "\u001b[1;31mAttributeError\u001b[0m: 'Plot_Data' object has no attribute 'data'"
     ]
    },
    {
     "data": {
      "image/png": "[encoded data removed]",
      "text/plain": [
       "<Figure size 800x600 with 1 Axes>"
      ]
     },
     "metadata": {},
     "output_type": "display_data"
    }
   ],
   "source": [
    "plot.plot_serie(serie_name=\"Imacec...\")"
   ]
  },
  {
   "cell_type": "code",
   "execution_count": null,
   "metadata": {},
   "outputs": [],
   "source": []
  },
  {
   "cell_type": "code",
   "execution_count": 1,
   "metadata": {},
   "outputs": [],
   "source": [
    "from get_data import Data"
   ]
  },
  {
   "cell_type": "code",
   "execution_count": 1,
   "metadata": {},
   "outputs": [],
   "source": [
    "import os"
   ]
  },
  {
   "cell_type": "code",
   "execution_count": 4,
   "metadata": {},
   "outputs": [
    {
     "data": {
      "text/plain": [
       "'data\\\\hola.csv'"
      ]
     },
     "execution_count": 4,
     "metadata": {},
     "output_type": "execute_result"
    }
   ],
   "source": [
    "file=\"hola\"\n",
    "os.path.join(\"data\", f\"{file}.csv\")"
   ]
  },
  {
   "cell_type": "code",
   "execution_count": 5,
   "metadata": {},
   "outputs": [
    {
     "name": "stdout",
     "output_type": "stream",
     "text": [
      "plot.csv\n"
     ]
    }
   ],
   "source": [
    "import os\n",
    "for file in os.listdir(\"data\"):\n",
    "            if file.endswith(\".csv\"):\n",
    "                    print(file)"
   ]
  },
  {
   "cell_type": "code",
   "execution_count": 3,
   "metadata": {},
   "outputs": [
    {
     "data": {
      "text/html": [
       "<div>\n",
       "<style scoped>\n",
       "    .dataframe tbody tr th:only-of-type {\n",
       "        vertical-align: middle;\n",
       "    }\n",
       "\n",
       "    .dataframe tbody tr th {\n",
       "        vertical-align: top;\n",
       "    }\n",
       "\n",
       "    .dataframe thead th {\n",
       "        text-align: right;\n",
       "    }\n",
       "</style>\n",
       "<table border=\"1\" class=\"dataframe\">\n",
       "  <thead>\n",
       "    <tr style=\"text-align: right;\">\n",
       "      <th></th>\n",
       "      <th>seriesId</th>\n",
       "      <th>frequencyCode</th>\n",
       "      <th>spanishTitle</th>\n",
       "      <th>englishTitle</th>\n",
       "      <th>firstObservation</th>\n",
       "      <th>lastObservation</th>\n",
       "      <th>updatedAt</th>\n",
       "      <th>createdAt</th>\n",
       "    </tr>\n",
       "  </thead>\n",
       "  <tbody>\n",
       "    <tr>\n",
       "      <th>0</th>\n",
       "      <td>F034.BESAN.IND.BCCH.2020.0.D</td>\n",
       "      <td>DAILY</td>\n",
       "      <td>Región de Antofagasta; Boletas electrónicas em...</td>\n",
       "      <td>Región de Antofagasta; Electronic bills issued...</td>\n",
       "      <td>2020-01-07</td>\n",
       "      <td>2024-04-15</td>\n",
       "      <td>2024-05-06</td>\n",
       "      <td>2024-05-06</td>\n",
       "    </tr>\n",
       "    <tr>\n",
       "      <th>1</th>\n",
       "      <td>F034.BESOAN.IND.BCCH.2020.0.D</td>\n",
       "      <td>DAILY</td>\n",
       "      <td>Región de Antofagasta; Boletas electrónicas em...</td>\n",
       "      <td>Región de Antofagasta; Electronic bills issued...</td>\n",
       "      <td>2020-01-01</td>\n",
       "      <td>2024-04-15</td>\n",
       "      <td>2024-05-06</td>\n",
       "      <td>2024-05-06</td>\n",
       "    </tr>\n",
       "    <tr>\n",
       "      <th>2</th>\n",
       "      <td>F022.CCPEAN.STO.Z.Z.Z.M</td>\n",
       "      <td>MONTHLY</td>\n",
       "      <td>Número de cuentas corrientes de personas natur...</td>\n",
       "      <td>Number of checking accounts in foreign currenc...</td>\n",
       "      <td>2009-01-01</td>\n",
       "      <td>2024-02-01</td>\n",
       "      <td>2024-05-08</td>\n",
       "      <td>2024-05-08</td>\n",
       "    </tr>\n",
       "    <tr>\n",
       "      <th>3</th>\n",
       "      <td>F022.CCPNAN.STO.Z.Z.Z.M</td>\n",
       "      <td>MONTHLY</td>\n",
       "      <td>Número de cuentas corrientes de personas natur...</td>\n",
       "      <td>Number of checking accounts in national curren...</td>\n",
       "      <td>2009-01-01</td>\n",
       "      <td>2024-02-01</td>\n",
       "      <td>2024-05-08</td>\n",
       "      <td>2024-05-08</td>\n",
       "    </tr>\n",
       "    <tr>\n",
       "      <th>4</th>\n",
       "      <td>F022.DCM90AN.TAS.Z.Z.Z.M</td>\n",
       "      <td>MONTHLY</td>\n",
       "      <td>Deuda comercial con mora de 90 días o más; Reg...</td>\n",
       "      <td>Commercial debt 90 or more days past due; Regi...</td>\n",
       "      <td>2008-01-01</td>\n",
       "      <td>2024-02-01</td>\n",
       "      <td>2024-05-08</td>\n",
       "      <td>2024-05-08</td>\n",
       "    </tr>\n",
       "    <tr>\n",
       "      <th>...</th>\n",
       "      <td>...</td>\n",
       "      <td>...</td>\n",
       "      <td>...</td>\n",
       "      <td>...</td>\n",
       "      <td>...</td>\n",
       "      <td>...</td>\n",
       "      <td>...</td>\n",
       "      <td>...</td>\n",
       "    </tr>\n",
       "    <tr>\n",
       "      <th>167</th>\n",
       "      <td>F035.PIB.V12.R.CLP.2018.12.Z.Z.02.0.A</td>\n",
       "      <td>ANNUAL</td>\n",
       "      <td>PIB Administración pública, Región de Antofaga...</td>\n",
       "      <td>Public administration GDP, Region of Antofagas...</td>\n",
       "      <td>2014-01-01</td>\n",
       "      <td>2023-01-01</td>\n",
       "      <td>2024-04-23</td>\n",
       "      <td>2024-04-23</td>\n",
       "    </tr>\n",
       "    <tr>\n",
       "      <th>168</th>\n",
       "      <td>F035.PIB.V12.R.CLP.2018.COM.Z.Z.02.0.A</td>\n",
       "      <td>ANNUAL</td>\n",
       "      <td>PIB Comercio, Región de Antofagasta, contribuc...</td>\n",
       "      <td>Wholesale and retail trade GDP, Region of Anto...</td>\n",
       "      <td>2014-01-01</td>\n",
       "      <td>2023-01-01</td>\n",
       "      <td>2024-04-23</td>\n",
       "      <td>2024-04-23</td>\n",
       "    </tr>\n",
       "    <tr>\n",
       "      <th>169</th>\n",
       "      <td>F035.PIB.V12.R.CLP.2018.RH.Z.Z.02.0.A</td>\n",
       "      <td>ANNUAL</td>\n",
       "      <td>PIB Restaurantes y hoteles, Región de Antofaga...</td>\n",
       "      <td>Hotels and restaurants GDP, Region of Antofaga...</td>\n",
       "      <td>2014-01-01</td>\n",
       "      <td>2023-01-01</td>\n",
       "      <td>2024-04-23</td>\n",
       "      <td>2024-04-23</td>\n",
       "    </tr>\n",
       "    <tr>\n",
       "      <th>170</th>\n",
       "      <td>F035.PIB.V12.R.CLP.2018.Z.Z.Z.02.0.A</td>\n",
       "      <td>ANNUAL</td>\n",
       "      <td>PIB Región de Antofagasta, contribución porcen...</td>\n",
       "      <td>GDP,  Region of Antofagasta, contribution comp...</td>\n",
       "      <td>2014-01-01</td>\n",
       "      <td>2023-01-01</td>\n",
       "      <td>2024-04-23</td>\n",
       "      <td>2024-04-23</td>\n",
       "    </tr>\n",
       "    <tr>\n",
       "      <th>171</th>\n",
       "      <td>F035.PPCP.FLU.R.USD.2018.Z.Z.Z.02.0.A</td>\n",
       "      <td>ANNUAL</td>\n",
       "      <td>Segunda Región de Antofagasta | PIB per cápita...</td>\n",
       "      <td>Segunda Región de Antofagasta | GPT per capita...</td>\n",
       "      <td>2018-01-01</td>\n",
       "      <td>2023-01-01</td>\n",
       "      <td>2024-04-23</td>\n",
       "      <td>2024-04-23</td>\n",
       "    </tr>\n",
       "  </tbody>\n",
       "</table>\n",
       "<p>172 rows × 8 columns</p>\n",
       "</div>"
      ],
      "text/plain": [
       "                                   seriesId frequencyCode  \\\n",
       "0              F034.BESAN.IND.BCCH.2020.0.D         DAILY   \n",
       "1             F034.BESOAN.IND.BCCH.2020.0.D         DAILY   \n",
       "2                   F022.CCPEAN.STO.Z.Z.Z.M       MONTHLY   \n",
       "3                   F022.CCPNAN.STO.Z.Z.Z.M       MONTHLY   \n",
       "4                  F022.DCM90AN.TAS.Z.Z.Z.M       MONTHLY   \n",
       "..                                      ...           ...   \n",
       "167   F035.PIB.V12.R.CLP.2018.12.Z.Z.02.0.A        ANNUAL   \n",
       "168  F035.PIB.V12.R.CLP.2018.COM.Z.Z.02.0.A        ANNUAL   \n",
       "169   F035.PIB.V12.R.CLP.2018.RH.Z.Z.02.0.A        ANNUAL   \n",
       "170    F035.PIB.V12.R.CLP.2018.Z.Z.Z.02.0.A        ANNUAL   \n",
       "171   F035.PPCP.FLU.R.USD.2018.Z.Z.Z.02.0.A        ANNUAL   \n",
       "\n",
       "                                          spanishTitle  \\\n",
       "0    Región de Antofagasta; Boletas electrónicas em...   \n",
       "1    Región de Antofagasta; Boletas electrónicas em...   \n",
       "2    Número de cuentas corrientes de personas natur...   \n",
       "3    Número de cuentas corrientes de personas natur...   \n",
       "4    Deuda comercial con mora de 90 días o más; Reg...   \n",
       "..                                                 ...   \n",
       "167  PIB Administración pública, Región de Antofaga...   \n",
       "168  PIB Comercio, Región de Antofagasta, contribuc...   \n",
       "169  PIB Restaurantes y hoteles, Región de Antofaga...   \n",
       "170  PIB Región de Antofagasta, contribución porcen...   \n",
       "171  Segunda Región de Antofagasta | PIB per cápita...   \n",
       "\n",
       "                                          englishTitle firstObservation  \\\n",
       "0    Región de Antofagasta; Electronic bills issued...       2020-01-07   \n",
       "1    Región de Antofagasta; Electronic bills issued...       2020-01-01   \n",
       "2    Number of checking accounts in foreign currenc...       2009-01-01   \n",
       "3    Number of checking accounts in national curren...       2009-01-01   \n",
       "4    Commercial debt 90 or more days past due; Regi...       2008-01-01   \n",
       "..                                                 ...              ...   \n",
       "167  Public administration GDP, Region of Antofagas...       2014-01-01   \n",
       "168  Wholesale and retail trade GDP, Region of Anto...       2014-01-01   \n",
       "169  Hotels and restaurants GDP, Region of Antofaga...       2014-01-01   \n",
       "170  GDP,  Region of Antofagasta, contribution comp...       2014-01-01   \n",
       "171  Segunda Región de Antofagasta | GPT per capita...       2018-01-01   \n",
       "\n",
       "    lastObservation  updatedAt  createdAt  \n",
       "0        2024-04-15 2024-05-06 2024-05-06  \n",
       "1        2024-04-15 2024-05-06 2024-05-06  \n",
       "2        2024-02-01 2024-05-08 2024-05-08  \n",
       "3        2024-02-01 2024-05-08 2024-05-08  \n",
       "4        2024-02-01 2024-05-08 2024-05-08  \n",
       "..              ...        ...        ...  \n",
       "167      2023-01-01 2024-04-23 2024-04-23  \n",
       "168      2023-01-01 2024-04-23 2024-04-23  \n",
       "169      2023-01-01 2024-04-23 2024-04-23  \n",
       "170      2023-01-01 2024-04-23 2024-04-23  \n",
       "171      2023-01-01 2024-04-23 2024-04-23  \n",
       "\n",
       "[172 rows x 8 columns]"
      ]
     },
     "execution_count": 3,
     "metadata": {},
     "output_type": "execute_result"
    }
   ],
   "source": [
    "data=Data()\n",
    "#data.get_data()\n",
    "#data.download_data()"
   ]
  }
 ],
 "metadata": {
  "language_info": {
   "name": "python"
  }
 },
 "nbformat": 4,
 "nbformat_minor": 2
}
