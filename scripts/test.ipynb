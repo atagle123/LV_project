{
 "cells": [
  {
   "cell_type": "code",
   "execution_count": null,
   "metadata": {},
   "outputs": [],
   "source": []
  },
  {
   "cell_type": "code",
   "execution_count": 1,
   "metadata": {},
   "outputs": [
    {
     "ename": "ModuleNotFoundError",
     "evalue": "No module named 'utils'",
     "output_type": "error",
     "traceback": [
      "\u001b[1;31m---------------------------------------------------------------------------\u001b[0m",
      "\u001b[1;31mModuleNotFoundError\u001b[0m                       Traceback (most recent call last)",
      "Cell \u001b[1;32mIn[1], line 6\u001b[0m\n\u001b[0;32m      3\u001b[0m \u001b[38;5;28;01mimport\u001b[39;00m \u001b[38;5;21;01msys\u001b[39;00m\n\u001b[0;32m      4\u001b[0m sys\u001b[38;5;241m.\u001b[39mpath\u001b[38;5;241m.\u001b[39mappend(os\u001b[38;5;241m.\u001b[39mpath\u001b[38;5;241m.\u001b[39mabspath(os\u001b[38;5;241m.\u001b[39mpath\u001b[38;5;241m.\u001b[39mjoin(\u001b[38;5;124m'\u001b[39m\u001b[38;5;124m..\u001b[39m\u001b[38;5;124m'\u001b[39m, \u001b[38;5;124m\"\u001b[39m\u001b[38;5;124mLV_project\u001b[39m\u001b[38;5;124m\"\u001b[39m)))\n\u001b[1;32m----> 6\u001b[0m \u001b[38;5;28;01mfrom\u001b[39;00m \u001b[38;5;21;01mutils\u001b[39;00m\u001b[38;5;21;01m.\u001b[39;00m\u001b[38;5;21;01mscrapping\u001b[39;00m \u001b[38;5;28;01mimport\u001b[39;00m find_xbrl_from_rut_name\n\u001b[0;32m      7\u001b[0m \u001b[38;5;28;01mfrom\u001b[39;00m \u001b[38;5;21;01mutils\u001b[39;00m\u001b[38;5;21;01m.\u001b[39;00m\u001b[38;5;21;01mxbrl_download\u001b[39;00m \u001b[38;5;28;01mimport\u001b[39;00m get_data_xbrl_to_dir,unzip_xbrl_file, find_xbrl_path\n\u001b[0;32m      8\u001b[0m \u001b[38;5;28;01mfrom\u001b[39;00m \u001b[38;5;21;01mutils\u001b[39;00m\u001b[38;5;21;01m.\u001b[39;00m\u001b[38;5;21;01mparse_xbrl\u001b[39;00m \u001b[38;5;28;01mimport\u001b[39;00m DF_XBRL\n",
      "\u001b[1;31mModuleNotFoundError\u001b[0m: No module named 'utils'"
     ]
    }
   ],
   "source": [
    "import os, sys, inspect\n",
    "# realpath() will make your script run, even if you symlink it :)\n",
    "import sys\n",
    "sys.path.append(os.path.abspath(os.path.join('..', \"LV_project\")))\n",
    "\n",
    "from utils.scrapping import find_xbrl_from_rut_name\n",
    "from utils.xbrl_download import get_data_xbrl_to_dir,unzip_xbrl_file, find_xbrl_path\n",
    "from utils.parse_xbrl import DF_XBRL\n",
    "\n",
    "empresa=\"besalco\"\n",
    "rut=\"92434000\"\n",
    "\n",
    "Empresa = [f'https://www.cmfchile.cl/portal/principal/613/w3-search.php?keywords={empresa}#fiscalizados',f\"//td[text()={rut}]\",\"./following-sibling::td/a\"]\n",
    "keys = [\"Url\", \"selector1\", \"Selector2\"]\n",
    "\n",
    "año = [\"Año\",2024,2023, 2022, 2021, 2020, 2019, 2018, 2017, 2016, 2015, 2014, 2013, 2012, 20211, 2010, 2009, 2008, 2007, 2006, 2005] # eventualmente ver si se estan todos los años y levantar una excepcion si no hay mas alla de lo q se pide\n",
    "quarter = [\"03\", \"06\", \"09\", \"12\"]\n",
    "\n",
    "Tipo_Norma = [\"Seleccione\", \"Estandar IFRS\", \"Norma Chilena\"]\n",
    "\n",
    "\n",
    "dates_dict={\"03\":31,\n",
    "            \"06\":30,\n",
    "            \"09\":30,\n",
    "            \"12\":31\n",
    "            }\n",
    "\n",
    "\n",
    "#----------Reemplazar valores en la siguiente lista ----------------------------\n",
    "configurador = [3,1,1] # cambiar configurador\n",
    "\n",
    "año=año[configurador[0]]\n",
    "mes=quarter[configurador[1]]\n",
    "dia=dates_dict[mes]\n",
    "\n",
    "useful_dates=[f\"{año}-{mes}-{dia}\",f\"{año-1}-12-31\"]\n",
    "\n",
    "print(\"Executing xbrl parse main...\")\n",
    "filaname=f\"{empresa}_{año}-{mes}-{dia}\"\n",
    "\n",
    "xbrl_path=find_xbrl_path(filename=filaname, dir=\"XBRL_files\")\n",
    "\n",
    "df_xbrl_instance=DF_XBRL(xbrl_path,folder_path=\"xbrl_csv\", filename=filaname)\n",
    "\n",
    "#filtered_df = df_xbrl_instance.search_concept(concept=\"871100\")\n",
    "#filtered_df=df_xbrl_instance.loc_useful_data(date_list=useful_dates,df=filtered_df)\n",
    "#df_xbrl_instance.save_readable_data(df=filtered_df, filename)"
   ]
  },
  {
   "cell_type": "code",
   "execution_count": 1,
   "metadata": {},
   "outputs": [
    {
     "ename": "NameError",
     "evalue": "name 'df_xbrl_instance' is not defined",
     "output_type": "error",
     "traceback": [
      "\u001b[1;31m---------------------------------------------------------------------------\u001b[0m",
      "\u001b[1;31mNameError\u001b[0m                                 Traceback (most recent call last)",
      "Cell \u001b[1;32mIn[1], line 1\u001b[0m\n\u001b[1;32m----> 1\u001b[0m df_xbrl_instance\u001b[38;5;241m.\u001b[39mshow_columns_names()\n",
      "\u001b[1;31mNameError\u001b[0m: name 'df_xbrl_instance' is not defined"
     ]
    }
   ],
   "source": [
    "df_xbrl_instance.show_columns_names()"
   ]
  },
  {
   "cell_type": "code",
   "execution_count": null,
   "metadata": {},
   "outputs": [],
   "source": []
  }
 ],
 "metadata": {
  "kernelspec": {
   "display_name": "base",
   "language": "python",
   "name": "python3"
  },
  "language_info": {
   "codemirror_mode": {
    "name": "ipython",
    "version": 3
   },
   "file_extension": ".py",
   "mimetype": "text/x-python",
   "name": "python",
   "nbconvert_exporter": "python",
   "pygments_lexer": "ipython3",
   "version": "3.11.7"
  }
 },
 "nbformat": 4,
 "nbformat_minor": 2
}
