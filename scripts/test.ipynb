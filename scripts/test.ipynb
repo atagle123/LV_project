{
 "cells": [
  {
   "cell_type": "code",
   "execution_count": 1,
   "metadata": {},
   "outputs": [
    {
     "ename": "NameError",
     "evalue": "name '__file__' is not defined",
     "output_type": "error",
     "traceback": [
      "\u001b[1;31m---------------------------------------------------------------------------\u001b[0m",
      "\u001b[1;31mNameError\u001b[0m                                 Traceback (most recent call last)",
      "Cell \u001b[1;32mIn[1], line 3\u001b[0m\n\u001b[0;32m      1\u001b[0m \u001b[38;5;28;01mimport\u001b[39;00m \u001b[38;5;21;01mos\u001b[39;00m\n\u001b[0;32m      2\u001b[0m \u001b[38;5;28;01mimport\u001b[39;00m \u001b[38;5;21;01msys\u001b[39;00m\n\u001b[1;32m----> 3\u001b[0m sys\u001b[38;5;241m.\u001b[39mpath\u001b[38;5;241m.\u001b[39minsert(\u001b[38;5;241m0\u001b[39m, os\u001b[38;5;241m.\u001b[39mpath\u001b[38;5;241m.\u001b[39mabspath(os\u001b[38;5;241m.\u001b[39mpath\u001b[38;5;241m.\u001b[39mjoin(os\u001b[38;5;241m.\u001b[39mpath\u001b[38;5;241m.\u001b[39mdirname(\u001b[38;5;18m__file__\u001b[39m), \u001b[38;5;124m'\u001b[39m\u001b[38;5;124m..\u001b[39m\u001b[38;5;124m'\u001b[39m)))\n\u001b[0;32m      4\u001b[0m \u001b[38;5;28;01mfrom\u001b[39;00m \u001b[38;5;21;01mindustry\u001b[39;00m\u001b[38;5;21;01m.\u001b[39;00m\u001b[38;5;21;01mparse_xbrl\u001b[39;00m \u001b[38;5;28;01mimport\u001b[39;00m Manage_xbrl, DF_XBRL\n\u001b[0;32m      5\u001b[0m \u001b[38;5;28;01mfrom\u001b[39;00m \u001b[38;5;21;01mutils\u001b[39;00m \u001b[38;5;28;01mimport\u001b[39;00m build_website_link_from_industry\n",
      "\u001b[1;31mNameError\u001b[0m: name '__file__' is not defined"
     ]
    }
   ],
   "source": [
    "import os\n",
    "import sys\n",
    "sys.path.insert(0, os.path.abspath(os.path.join(os.path.dirname(__file__), '..')))\n",
    "from industry.parse_xbrl import Manage_xbrl, DF_XBRL\n",
    "from utils import build_website_link_from_industry\n",
    "from industry.scrapping import find_xbrl_from_rut_name\n",
    "\n",
    "\n",
    "empresa=\"besalco\"\n",
    "\n",
    "Empresa = build_website_link_from_industry(empresa)\n",
    "\n",
    "# keys = [\"Url\", \"selector1\", \"Selector2\"]\n",
    "\n",
    "año = [\"Año\",2024,2023, 2022, 2021, 2020, 2019, 2018, 2017, 2016, 2015, 2014, 2013, 2012, 20211, 2010, 2009, 2008, 2007, 2006, 2005] # eventualmente ver si se estan todos los años y levantar una excepcion si no hay mas alla de lo q se pide\n",
    "quarter = [\"03\", \"06\", \"09\", \"12\"]\n",
    "\n",
    "# Tipo_Norma = [\"Seleccione\", \"Estandar IFRS\", \"Norma Chilena\"]\n",
    "\n",
    "\n",
    "dates_dict={\"03\":31,\n",
    "            \"06\":30,\n",
    "            \"09\":30,\n",
    "            \"12\":31\n",
    "            }\n",
    "\n",
    "\n",
    "#----------Reemplazar valores en la siguiente lista ----------------------------\n",
    "configurador = [3,1,1] # cambiar configurador\n",
    "\n",
    "año=año[configurador[0]]\n",
    "mes=quarter[configurador[1]]\n",
    "dia=dates_dict[mes]\n",
    "\n",
    "useful_dates=[f\"{año}-{mes}-{dia}\",f\"{año-1}-12-31\"]\n",
    "\n",
    "\n",
    "xbrl_url=find_xbrl_from_rut_name(Empresa,configurador)\n",
    "\n",
    "xbrl_instance=DF_XBRL()"
   ]
  },
  {
   "cell_type": "code",
   "execution_count": null,
   "metadata": {},
   "outputs": [],
   "source": []
  }
 ],
 "metadata": {
  "kernelspec": {
   "display_name": "base",
   "language": "python",
   "name": "python3"
  },
  "language_info": {
   "codemirror_mode": {
    "name": "ipython",
    "version": 3
   },
   "file_extension": ".py",
   "mimetype": "text/x-python",
   "name": "python",
   "nbconvert_exporter": "python",
   "pygments_lexer": "ipython3",
   "version": "3.11.7"
  }
 },
 "nbformat": 4,
 "nbformat_minor": 2
}
